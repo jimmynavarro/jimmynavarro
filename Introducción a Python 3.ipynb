{
 "cells": [
  {
   "cell_type": "markdown",
   "metadata": {},
   "source": [
    "## Introducción a python\n",
    "* Variables\n",
    "* Tipos de datos\n",
    "* Operaciones con python\n",
    "* Manejo de datos\n",
    "* Librerias de python"
   ]
  },
  {
   "cell_type": "markdown",
   "metadata": {},
   "source": [
    "* Números enteros"
   ]
  },
  {
   "cell_type": "code",
   "execution_count": 1,
   "metadata": {},
   "outputs": [
    {
     "name": "stdout",
     "output_type": "stream",
     "text": [
      "3\n"
     ]
    }
   ],
   "source": [
    "a=1+2\n",
    "variable=2*2\n",
    "print(a)"
   ]
  },
  {
   "cell_type": "code",
   "execution_count": 43,
   "metadata": {},
   "outputs": [
    {
     "data": {
      "text/plain": [
       "3"
      ]
     },
     "execution_count": 43,
     "metadata": {},
     "output_type": "execute_result"
    }
   ],
   "source": [
    "a"
   ]
  },
  {
   "cell_type": "code",
   "execution_count": 2,
   "metadata": {},
   "outputs": [
    {
     "data": {
      "text/plain": [
       "int"
      ]
     },
     "execution_count": 2,
     "metadata": {},
     "output_type": "execute_result"
    }
   ],
   "source": [
    "type(a)"
   ]
  },
  {
   "cell_type": "markdown",
   "metadata": {},
   "source": [
    "* Número flotantes: se denominan a los números decimales"
   ]
  },
  {
   "cell_type": "code",
   "execution_count": 3,
   "metadata": {},
   "outputs": [
    {
     "name": "stdout",
     "output_type": "stream",
     "text": [
      "2.0666666666666664\n"
     ]
    }
   ],
   "source": [
    "b=1.2+1.3/1.5\n",
    "print(b)"
   ]
  },
  {
   "cell_type": "code",
   "execution_count": 4,
   "metadata": {},
   "outputs": [
    {
     "data": {
      "text/plain": [
       "float"
      ]
     },
     "execution_count": 4,
     "metadata": {},
     "output_type": "execute_result"
    }
   ],
   "source": [
    "type(b)"
   ]
  },
  {
   "cell_type": "code",
   "execution_count": 5,
   "metadata": {},
   "outputs": [],
   "source": [
    "complejo = 1 + 2j"
   ]
  },
  {
   "cell_type": "code",
   "execution_count": 6,
   "metadata": {},
   "outputs": [
    {
     "data": {
      "text/plain": [
       "complex"
      ]
     },
     "execution_count": 6,
     "metadata": {},
     "output_type": "execute_result"
    }
   ],
   "source": [
    "type(complejo)"
   ]
  },
  {
   "cell_type": "markdown",
   "metadata": {},
   "source": [
    "* String: se le asigna a los textos "
   ]
  },
  {
   "cell_type": "code",
   "execution_count": 46,
   "metadata": {},
   "outputs": [
    {
     "name": "stdout",
     "output_type": "stream",
     "text": [
      "5\n"
     ]
    }
   ],
   "source": [
    "c=\"5\"\n",
    "print(c)"
   ]
  },
  {
   "cell_type": "code",
   "execution_count": 47,
   "metadata": {},
   "outputs": [
    {
     "data": {
      "text/plain": [
       "str"
      ]
     },
     "execution_count": 47,
     "metadata": {},
     "output_type": "execute_result"
    }
   ],
   "source": [
    "type(c)"
   ]
  },
  {
   "cell_type": "code",
   "execution_count": 1,
   "metadata": {},
   "outputs": [],
   "source": [
    "b=[1,2,3]"
   ]
  },
  {
   "cell_type": "code",
   "execution_count": null,
   "metadata": {},
   "outputs": [],
   "source": [
    "type(b)"
   ]
  },
  {
   "cell_type": "markdown",
   "metadata": {},
   "source": [
    "* Tuplas: a los interacciones presentes entre parecentesis, sus valores son inmutables"
   ]
  },
  {
   "cell_type": "code",
   "execution_count": 9,
   "metadata": {},
   "outputs": [
    {
     "name": "stdout",
     "output_type": "stream",
     "text": [
      "(1, 1.2, 'Hello world')\n"
     ]
    }
   ],
   "source": [
    "d=(1, 1.2, \"Hello world\")   # Tupla con tres elementos\n",
    "print(d)"
   ]
  },
  {
   "cell_type": "code",
   "execution_count": 10,
   "metadata": {},
   "outputs": [
    {
     "data": {
      "text/plain": [
       "'Hello world'"
      ]
     },
     "execution_count": 10,
     "metadata": {},
     "output_type": "execute_result"
    }
   ],
   "source": [
    "d[2]"
   ]
  },
  {
   "cell_type": "markdown",
   "metadata": {},
   "source": [
    "* Listas: Presentan los datos en Corchetes [ ]"
   ]
  },
  {
   "cell_type": "code",
   "execution_count": 11,
   "metadata": {},
   "outputs": [
    {
     "name": "stdout",
     "output_type": "stream",
     "text": [
      "[42, 3.14, 'hola', ('casa', 1.23)]\n"
     ]
    }
   ],
   "source": [
    "e=[42, 3.14, 'hola', ('casa',1.23)]    # Lista con tres elementos\n",
    "print(e)"
   ]
  },
  {
   "cell_type": "code",
   "execution_count": 12,
   "metadata": {},
   "outputs": [
    {
     "data": {
      "text/plain": [
       "list"
      ]
     },
     "execution_count": 12,
     "metadata": {},
     "output_type": "execute_result"
    }
   ],
   "source": [
    "type(e)"
   ]
  },
  {
   "cell_type": "markdown",
   "metadata": {},
   "source": [
    "* Diccionario: Valores presentes entre llaves"
   ]
  },
  {
   "cell_type": "code",
   "execution_count": 13,
   "metadata": {},
   "outputs": [],
   "source": [
    "futbolistas = {\n",
    "    1: \"Casillas\", 3: \"Piqué\",\n",
    "    5: \"Puyol\", 6: \"Iniesta\",\n",
    "    7: \"Villa\", 8: \"Xavi Hernández\",\n",
    "    9: \"Torres\", 11: \"Capdevila\",\n",
    "    14: \"Xavi Alonso\", 15: \"Ramos\",\n",
    "    16: \"Busquets\"}"
   ]
  },
  {
   "cell_type": "code",
   "execution_count": 14,
   "metadata": {},
   "outputs": [
    {
     "data": {
      "text/plain": [
       "dict"
      ]
     },
     "execution_count": 14,
     "metadata": {},
     "output_type": "execute_result"
    }
   ],
   "source": [
    "type(futbolistas)"
   ]
  },
  {
   "cell_type": "code",
   "execution_count": 48,
   "metadata": {},
   "outputs": [],
   "source": [
    "f={1:\"hola\",2:\"b\",3:\"c\"}"
   ]
  },
  {
   "cell_type": "code",
   "execution_count": 49,
   "metadata": {},
   "outputs": [
    {
     "data": {
      "text/plain": [
       "dict"
      ]
     },
     "execution_count": 49,
     "metadata": {},
     "output_type": "execute_result"
    }
   ],
   "source": [
    "type(f)"
   ]
  },
  {
   "cell_type": "markdown",
   "metadata": {},
   "source": [
    "* buleanos: Presentan valores positivo y negativos"
   ]
  },
  {
   "cell_type": "code",
   "execution_count": 50,
   "metadata": {},
   "outputs": [],
   "source": [
    "h =4 in f"
   ]
  },
  {
   "cell_type": "code",
   "execution_count": 51,
   "metadata": {},
   "outputs": [
    {
     "data": {
      "text/plain": [
       "False"
      ]
     },
     "execution_count": 51,
     "metadata": {},
     "output_type": "execute_result"
    }
   ],
   "source": [
    "h"
   ]
  },
  {
   "cell_type": "code",
   "execution_count": 19,
   "metadata": {},
   "outputs": [
    {
     "data": {
      "text/plain": [
       "bool"
      ]
     },
     "execution_count": 19,
     "metadata": {},
     "output_type": "execute_result"
    }
   ],
   "source": [
    "type(h)"
   ]
  },
  {
   "cell_type": "code",
   "execution_count": 20,
   "metadata": {},
   "outputs": [
    {
     "data": {
      "text/plain": [
       "False"
      ]
     },
     "execution_count": 20,
     "metadata": {},
     "output_type": "execute_result"
    }
   ],
   "source": [
    "w=[2,3,4,6]\n",
    "7 in w"
   ]
  },
  {
   "cell_type": "markdown",
   "metadata": {},
   "source": [
    "### Operaciones con python"
   ]
  },
  {
   "cell_type": "code",
   "execution_count": 21,
   "metadata": {},
   "outputs": [
    {
     "data": {
      "text/plain": [
       "3"
      ]
     },
     "execution_count": 21,
     "metadata": {},
     "output_type": "execute_result"
    }
   ],
   "source": [
    "1+2"
   ]
  },
  {
   "cell_type": "code",
   "execution_count": 22,
   "metadata": {},
   "outputs": [
    {
     "data": {
      "text/plain": [
       "5.066666666666666"
      ]
     },
     "execution_count": 22,
     "metadata": {},
     "output_type": "execute_result"
    }
   ],
   "source": [
    "a+b"
   ]
  },
  {
   "cell_type": "code",
   "execution_count": 25,
   "metadata": {},
   "outputs": [
    {
     "name": "stdout",
     "output_type": "stream",
     "text": [
      "Valor estimado: 7.57\n"
     ]
    }
   ],
   "source": [
    "i = ((5*0.5) + (2*a*0.5+b)) # Una sumatoria de productos\n",
    "print(\"Valor estimado:\", round(i,2))\n",
    "      "
   ]
  },
  {
   "cell_type": "code",
   "execution_count": 59,
   "metadata": {},
   "outputs": [
    {
     "name": "stdout",
     "output_type": "stream",
     "text": [
      "ingrese primer valor:3\n",
      "ingrese segundo valor:3.4\n",
      "La suma de los dos valores es 6.4\n",
      "El producto de los dos valores es 10.2\n"
     ]
    }
   ],
   "source": [
    "num1=float(input(\"ingrese primer valor:\"))\n",
    "num2=float(input(\"ingrese segundo valor:\"))\n",
    "suma=num1+num2\n",
    "producto=num1*num2\n",
    "print(\"La suma de los dos valores es\", suma)\n",
    "print(\"El producto de los dos valores es\", producto)"
   ]
  },
  {
   "cell_type": "code",
   "execution_count": 28,
   "metadata": {},
   "outputs": [
    {
     "data": {
      "text/plain": [
       "[42, 3.14, 'hola', ('casa', 1.23)]"
      ]
     },
     "execution_count": 28,
     "metadata": {},
     "output_type": "execute_result"
    }
   ],
   "source": [
    "e"
   ]
  },
  {
   "cell_type": "code",
   "execution_count": 29,
   "metadata": {},
   "outputs": [
    {
     "data": {
      "text/plain": [
       "43.23"
      ]
     },
     "execution_count": 29,
     "metadata": {},
     "output_type": "execute_result"
    }
   ],
   "source": [
    "e[0] + e[3][1]"
   ]
  },
  {
   "cell_type": "code",
   "execution_count": 30,
   "metadata": {},
   "outputs": [],
   "source": [
    "e.append(6) # agregar un valor a una lista"
   ]
  },
  {
   "cell_type": "code",
   "execution_count": 31,
   "metadata": {},
   "outputs": [
    {
     "data": {
      "text/plain": [
       "[42, 3.14, 'hola', ('casa', 1.23), 6]"
      ]
     },
     "execution_count": 31,
     "metadata": {},
     "output_type": "execute_result"
    }
   ],
   "source": [
    "e"
   ]
  },
  {
   "cell_type": "code",
   "execution_count": 32,
   "metadata": {},
   "outputs": [],
   "source": [
    "e.remove(42) # eliminar un valor de la lista"
   ]
  },
  {
   "cell_type": "code",
   "execution_count": 33,
   "metadata": {},
   "outputs": [
    {
     "data": {
      "text/plain": [
       "[3.14, 'hola', ('casa', 1.23), 6]"
      ]
     },
     "execution_count": 33,
     "metadata": {},
     "output_type": "execute_result"
    }
   ],
   "source": [
    "e"
   ]
  },
  {
   "cell_type": "markdown",
   "metadata": {},
   "source": [
    "### Estructuras repetitivas\n",
    "* while\n",
    "* for"
   ]
  },
  {
   "cell_type": "code",
   "execution_count": 34,
   "metadata": {},
   "outputs": [
    {
     "name": "stdout",
     "output_type": "stream",
     "text": [
      "0\n",
      "1\n",
      "2\n",
      "3\n"
     ]
    }
   ],
   "source": [
    "rango = range(0, 4) # Crearemos un rango de valores. utilizaremos el bucle for.\n",
    "for n in rango:\n",
    "    print(n)"
   ]
  },
  {
   "cell_type": "code",
   "execution_count": 42,
   "metadata": {},
   "outputs": [
    {
     "name": "stdout",
     "output_type": "stream",
     "text": [
      "1\n",
      "11\n",
      "21\n",
      "31\n",
      "41\n",
      "51\n",
      "61\n",
      "71\n",
      "81\n",
      "91\n"
     ]
    }
   ],
   "source": [
    "for x in range(1,100,10):\n",
    "    print(x)"
   ]
  },
  {
   "cell_type": "code",
   "execution_count": 39,
   "metadata": {},
   "outputs": [
    {
     "name": "stdout",
     "output_type": "stream",
     "text": [
      "Ingrese nro de día:11\n",
      "Ingrese nro de mes:3\n",
      "Ingrese nro de año:2\n",
      "dato errado\n"
     ]
    }
   ],
   "source": [
    "dia=int(input(\"Ingrese nro de día:\")) #imputación N°1\n",
    "mes=int(input(\"Ingrese nro de mes:\"))\n",
    "año=int(input(\"Ingrese nro de año:\"))\n",
    "if mes==1 or mes==2 or mes==3 and dia>=12:\n",
    "    print(\"Corresponde al primer trimestre\")\n",
    "else:\n",
    "    print(\"dato errado\")"
   ]
  },
  {
   "cell_type": "code",
   "execution_count": 55,
   "metadata": {},
   "outputs": [
    {
     "name": "stdout",
     "output_type": "stream",
     "text": [
      "Ingrese primer valor:10\n",
      "Ingrese segundo valor:15\n",
      "Ingrese tercer valor:16\n",
      "El mayor de los tres valores es\n",
      "16\n"
     ]
    }
   ],
   "source": [
    "num1=int(input(\"Ingrese primer valor:\"))\n",
    "num2=int(input(\"Ingrese segundo valor:\"))\n",
    "num3=int(input(\"Ingrese tercer valor:\"))\n",
    "print(\"El mayor de los tres valores es\")\n",
    "if num1>num2 and num1>num3:\n",
    "    print(num1)\n",
    "else:\n",
    "    if num2>num3:\n",
    "        print(num2)\n",
    "    else:\n",
    "        print(num3)"
   ]
  },
  {
   "cell_type": "code",
   "execution_count": 57,
   "metadata": {},
   "outputs": [],
   "source": [
    "import pandas as pd\n",
    "import numpy as np\n",
    "import matplotlib.pyplot as plt\n",
    "import seaborn as sb"
   ]
  },
  {
   "cell_type": "code",
   "execution_count": 54,
   "metadata": {},
   "outputs": [
    {
     "data": {
      "text/plain": [
       "'0.10.0'"
      ]
     },
     "execution_count": 54,
     "metadata": {},
     "output_type": "execute_result"
    }
   ],
   "source": [
    "sb.__version__"
   ]
  },
  {
   "cell_type": "code",
   "execution_count": 58,
   "metadata": {},
   "outputs": [],
   "source": [
    "#help(pd)"
   ]
  },
  {
   "cell_type": "markdown",
   "metadata": {},
   "source": [
    "#### Operadores matemáticos"
   ]
  },
  {
   "cell_type": "markdown",
   "metadata": {},
   "source": [
    "+ suma\n",
    "- resta\n",
    "* multi\n",
    "/ dividir\n",
    "** potencia\n",
    "== Igualdad\n",
    ">= mayor igual\n",
    "<= menor igual\n",
    "!= Deisgualdad\n"
   ]
  },
  {
   "cell_type": "code",
   "execution_count": 2,
   "metadata": {},
   "outputs": [],
   "source": [
    "#Introducir en pantatlla 2 números y que me  imprima el mayor de ellos"
   ]
  },
  {
   "cell_type": "code",
   "execution_count": 3,
   "metadata": {},
   "outputs": [
    {
     "name": "stdout",
     "output_type": "stream",
     "text": [
      "Ingrese el primer número: 3\n",
      "Ingrese el segundo número: 4\n",
      "4.0\n"
     ]
    }
   ],
   "source": [
    "num1=float(input(\"Ingrese el primer número: \"))\n",
    "num2=float(input(\"Ingrese el segundo número: \"))\n",
    "if num1>num2:\n",
    "    print(num1)\n",
    "else:\n",
    "    print(num2)"
   ]
  },
  {
   "cell_type": "markdown",
   "metadata": {},
   "source": [
    "Introducir las leyes de Zn de los 3 últimos días, si el promedio de estos es mayor a 5, imprimir en pantalla \"Hemos tennido leyes altas de Zn\""
   ]
  },
  {
   "cell_type": "code",
   "execution_count": 6,
   "metadata": {},
   "outputs": [
    {
     "name": "stdout",
     "output_type": "stream",
     "text": [
      "Ley día 1: 3\n",
      "Ley día 2: 4\n",
      "Ley día 3: 6\n",
      "Las leyes son bajas: 4.333333333333333\n"
     ]
    }
   ],
   "source": [
    "ley_dia_1=float(input(\"Ley día 1: \"))\n",
    "ley_dia_2=float(input(\"Ley día 2: \"))\n",
    "ley_dia_3=float(input(\"Ley día 3: \"))\n",
    "promedio=(ley_dia_1+ley_dia_2+ley_dia_3)/3\n",
    "if promedio>5:\n",
    "    print(\"Las leyes son altas:\", promedio)\n",
    "else:\n",
    "    print(\"Las leyes son bajas:\",promedio)"
   ]
  },
  {
   "cell_type": "code",
   "execution_count": 7,
   "metadata": {},
   "outputs": [
    {
     "name": "stdout",
     "output_type": "stream",
     "text": [
      "Ley día 1: 3\n",
      "Ley día 2: 4\n",
      "Ley día 3: 6\n",
      "6.0\n"
     ]
    }
   ],
   "source": [
    "ley_dia_1=float(input(\"Ley día 1: \"))\n",
    "ley_dia_2=float(input(\"Ley día 2: \"))\n",
    "ley_dia_3=float(input(\"Ley día 3: \"))\n",
    "if ley_dia_1>ley_dia_2 and ley_dia_1>ley_dia_3:\n",
    "    print(ley_dia_1)\n",
    "else:\n",
    "    if ley_dia_2>ley_dia_1 and ley_dia_2>ley_dia_3:\n",
    "        print(ley_dia_2)\n",
    "    else:\n",
    "        print(ley_dia_3)"
   ]
  },
  {
   "cell_type": "code",
   "execution_count": 8,
   "metadata": {},
   "outputs": [
    {
     "name": "stdout",
     "output_type": "stream",
     "text": [
      "Ley día 1: 2\n",
      "Ley día 2: 12\n",
      "Ley día 3: 15\n",
      "Alguna de las leyes es menor a 10\n"
     ]
    }
   ],
   "source": [
    "ley_dia_1=float(input(\"Ley día 1: \"))\n",
    "ley_dia_2=float(input(\"Ley día 2: \"))\n",
    "ley_dia_3=float(input(\"Ley día 3: \"))\n",
    "if ley_dia_1<10 or ley_dia_2<10 or ley_dia_3<10:\n",
    "    print(\"Alguna de las leyes es menor a 10\")"
   ]
  },
  {
   "cell_type": "code",
   "execution_count": 11,
   "metadata": {},
   "outputs": [
    {
     "name": "stdout",
     "output_type": "stream",
     "text": [
      "Ley día 1: 3\n",
      "Positivo\n"
     ]
    }
   ],
   "source": [
    "ley_dia_1=int(input(\"Ley día 1: \"))\n",
    "if ley_dia_1==0:\n",
    "    print(\"NUlo\")\n",
    "else:\n",
    "    if ley_dia_1>0:\n",
    "        print(\"Positivo\")\n",
    "    else:\n",
    "        print(\"Negativo\")"
   ]
  },
  {
   "cell_type": "code",
   "execution_count": null,
   "metadata": {},
   "outputs": [],
   "source": []
  },
  {
   "cell_type": "code",
   "execution_count": null,
   "metadata": {},
   "outputs": [],
   "source": []
  }
 ],
 "metadata": {
  "kernelspec": {
   "display_name": "Python 3",
   "language": "python",
   "name": "python3"
  },
  "language_info": {
   "codemirror_mode": {
    "name": "ipython",
    "version": 3
   },
   "file_extension": ".py",
   "mimetype": "text/x-python",
   "name": "python",
   "nbconvert_exporter": "python",
   "pygments_lexer": "ipython3",
   "version": "3.8.5"
  }
 },
 "nbformat": 4,
 "nbformat_minor": 4
}
